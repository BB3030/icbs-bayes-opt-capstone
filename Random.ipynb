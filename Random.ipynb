{
 "cells": [
  {
   "attachments": {},
   "cell_type": "markdown",
   "metadata": {},
   "source": [
    "# Initially used to fill in sample space and for early weeks when there was confusion about google forms"
   ]
  },
  {
   "cell_type": "code",
   "execution_count": 1,
   "metadata": {},
   "outputs": [
    {
     "name": "stdout",
     "output_type": "stream",
     "text": [
      "F1\n",
      "0.730995-0.857720: random\n",
      "F2\n",
      "0.756181-0.433448: random\n",
      "F3\n",
      "0.339374-0.221911-0.308388: random\n",
      "F4\n",
      "0.036831-0.731594-0.157104-0.594168: random\n",
      "F5\n",
      "0.395617-0.961272-0.142741-0.173780: random\n",
      "F6\n",
      "0.306014-0.589874-0.412246-0.521999-0.221596: random\n",
      "F7\n",
      "0.804171-0.973446-0.447233-0.421200-0.931802-0.606640: random\n",
      "F8\n",
      "0.667588-0.329413-0.776848-0.518883-0.185148-0.226351-0.766037-0.675224: random\n"
     ]
    }
   ],
   "source": [
    "import numpy as np\n",
    "from shared import FormatOutputs\n",
    "\n",
    "print(\"F1\")\n",
    "FormatOutputs(np.random.rand(2), \"random\")\n",
    "\n",
    "print(\"F2\")\n",
    "FormatOutputs(np.random.rand(2), \"random\")\n",
    "\n",
    "print(\"F3\")\n",
    "FormatOutputs(np.random.rand(3), \"random\")\n",
    "\n",
    "print(\"F4\")\n",
    "FormatOutputs(np.random.rand(4), \"random\")\n",
    "\n",
    "print(\"F5\")\n",
    "FormatOutputs(np.random.rand(4), \"random\")\n",
    "\n",
    "print(\"F6\")\n",
    "FormatOutputs(np.random.rand(5), \"random\")\n",
    "\n",
    "print(\"F7\")\n",
    "FormatOutputs(np.random.rand(6), \"random\")\n",
    "\n",
    "print(\"F8\")\n",
    "FormatOutputs(np.random.rand(8), \"random\")"
   ]
  }
 ],
 "metadata": {
  "kernelspec": {
   "display_name": ".venv",
   "language": "python",
   "name": "python3"
  },
  "language_info": {
   "codemirror_mode": {
    "name": "ipython",
    "version": 3
   },
   "file_extension": ".py",
   "mimetype": "text/x-python",
   "name": "python",
   "nbconvert_exporter": "python",
   "pygments_lexer": "ipython3",
   "version": "3.9.4"
  },
  "orig_nbformat": 4
 },
 "nbformat": 4,
 "nbformat_minor": 2
}
