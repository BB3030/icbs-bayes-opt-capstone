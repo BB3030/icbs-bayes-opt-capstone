{
 "cells": [
  {
   "cell_type": "code",
   "execution_count": 1,
   "metadata": {},
   "outputs": [],
   "source": [
    "import pandas as pd\n",
    "import numpy as np"
   ]
  },
  {
   "cell_type": "code",
   "execution_count": 2,
   "metadata": {},
   "outputs": [],
   "source": [
    "def get_initial_data(i: int) -> tuple[np.ndarray, np.ndarray]:\n",
    "    return  np.load(f'../initial_data/function_{i}/initial_inputs.npy'), np.load(f'../initial_data/function_{i}/initial_outputs.npy')\n"
   ]
  },
  {
   "cell_type": "code",
   "execution_count": 3,
   "metadata": {},
   "outputs": [],
   "source": [
    "def read_inputs(original_string: str) -> np.ndarray:\n",
    "    # Remove the brackets and split the string based on the space\n",
    "    values = original_string.strip('[]').split()\n",
    "\n",
    "    # Convert the split values to numpy array of floats\n",
    "    return np.array([np.array([float(value) for value in values])])"
   ]
  },
  {
   "cell_type": "code",
   "execution_count": 4,
   "metadata": {},
   "outputs": [],
   "source": [
    "#read initial data\n",
    "inputs = {}\n",
    "outputs = {}\n",
    "for i in range(1,9):\n",
    "    ip, op = get_initial_data(i)\n",
    "    inputs[i]   = ip\n",
    "    outputs[i]  = op\n",
    "\n",
    "#read new data\n",
    "results = pd.read_csv('542_data.csv')\n",
    "\n",
    "#iterate rows\n",
    "for idx,row in results.iterrows():\n",
    "    #iterate columns\n",
    "    for c in range(1,9):\n",
    "        inputs[c] = np.concatenate((inputs[c], read_inputs(row[f'f{c}'])), axis=0)\n",
    "        outputs[c] = np.append(outputs[c], row[f'f{c}_output'])\n"
   ]
  },
  {
   "cell_type": "code",
   "execution_count": 5,
   "metadata": {},
   "outputs": [],
   "source": [
    "for i in range(1,9):\n",
    "    np.save(f'function_{i}/inputs.npy', inputs[i])\n",
    "    np.save(f'function_{i}/outputs.npy', outputs[i])"
   ]
  },
  {
   "cell_type": "code",
   "execution_count": 6,
   "metadata": {},
   "outputs": [
    {
     "data": {
      "text/plain": [
       "array([ 1.32267704e-079,  1.03307824e-046,  7.71087511e-016,\n",
       "        3.34177101e-124, -3.60606264e-003, -2.15924904e-054,\n",
       "       -2.08909327e-091,  2.53500115e-040,  3.60677119e-081,\n",
       "        6.22985647e-048, -1.61952929e-025,  0.00000000e+000,\n",
       "        0.00000000e+000,  1.02609637e-067,  3.19021634e-099,\n",
       "        2.03719576e-038,  2.03719576e-038, -3.03417146e-052])"
      ]
     },
     "execution_count": 6,
     "metadata": {},
     "output_type": "execute_result"
    }
   ],
   "source": [
    "np.load('function_1/outputs.npy')"
   ]
  }
 ],
 "metadata": {
  "kernelspec": {
   "display_name": ".venv",
   "language": "python",
   "name": "python3"
  },
  "language_info": {
   "codemirror_mode": {
    "name": "ipython",
    "version": 3
   },
   "file_extension": ".py",
   "mimetype": "text/x-python",
   "name": "python",
   "nbconvert_exporter": "python",
   "pygments_lexer": "ipython3",
   "version": "3.9.4"
  },
  "orig_nbformat": 4
 },
 "nbformat": 4,
 "nbformat_minor": 2
}
